{
 "cells": [
  {
   "cell_type": "code",
   "execution_count": 0,
   "metadata": {
    "application/vnd.databricks.v1+cell": {
     "cellMetadata": {},
     "inputWidgets": {},
     "nuid": "a301208f-646e-4339-8b75-f9a2f68bf569",
     "showTitle": false,
     "title": ""
    }
   },
   "outputs": [
    {
     "output_type": "display_data",
     "data": {
      "text/html": [
       "<style scoped>\n",
       "  .table-result-container {\n",
       "    max-height: 300px;\n",
       "    overflow: auto;\n",
       "  }\n",
       "  table, th, td {\n",
       "    border: 1px solid black;\n",
       "    border-collapse: collapse;\n",
       "  }\n",
       "  th, td {\n",
       "    padding: 5px;\n",
       "  }\n",
       "  th {\n",
       "    text-align: left;\n",
       "  }\n",
       "</style><div class='table-result-container'><table class='table-result'><thead style='background-color: white'><tr><th>_c0</th><th>_c1</th><th>_c2</th><th>_c3</th></tr></thead><tbody><tr><td>Name</td><td>Address</td><td>Email</td><td>Phone</td></tr><tr><td>John Doe</td><td>123 Main St</td><td>john.doe@example.com</td><td>1234567890</td></tr><tr><td>Jane Smith</td><td>456 Elm St</td><td>jane.smith@example.com</td><td>2345678901</td></tr><tr><td>Michael Johnson</td><td>789 Oak Ave</td><td>michael.johnson@example.com</td><td>3456789012</td></tr><tr><td>Emily Brown</td><td>101 Pine St</td><td>emily.brown@example.com</td><td>4567890123</td></tr><tr><td>John Doe</td><td>123 Main St</td><td>john.doe2@example.com</td><td>8521469589</td></tr><tr><td>Jane Smith</td><td>456 Elm St</td><td>jane.smith2@example.com</td><td>5678901234</td></tr><tr><td>David Wilson</td><td>222 Maple Rd</td><td>david.wilson@example.com</td><td>6789012345</td></tr><tr><td>Sarah Davis</td><td>333 Birch Ave</td><td>sarah.davis@example.com</td><td>7890123456</td></tr><tr><td>Michael Johnson</td><td>789 Oak Ave</td><td>michael.johnson2@example.com</td><td>9012345678</td></tr><tr><td>Emma Miller</td><td>444 Cedar Blvd</td><td>emma.miller@example.com</td><td>123456789</td></tr></tbody></table></div>"
      ]
     },
     "metadata": {
      "application/vnd.databricks.v1+output": {
       "addedWidgets": {},
       "aggData": [],
       "aggError": "",
       "aggOverflow": false,
       "aggSchema": [],
       "aggSeriesLimitReached": false,
       "aggType": "",
       "arguments": {},
       "columnCustomDisplayInfos": {},
       "data": [
        [
         "Name",
         "Address",
         "Email",
         "Phone"
        ],
        [
         "John Doe",
         "123 Main St",
         "john.doe@example.com",
         "1234567890"
        ],
        [
         "Jane Smith",
         "456 Elm St",
         "jane.smith@example.com",
         "2345678901"
        ],
        [
         "Michael Johnson",
         "789 Oak Ave",
         "michael.johnson@example.com",
         "3456789012"
        ],
        [
         "Emily Brown",
         "101 Pine St",
         "emily.brown@example.com",
         "4567890123"
        ],
        [
         "John Doe",
         "123 Main St",
         "john.doe2@example.com",
         "8521469589"
        ],
        [
         "Jane Smith",
         "456 Elm St",
         "jane.smith2@example.com",
         "5678901234"
        ],
        [
         "David Wilson",
         "222 Maple Rd",
         "david.wilson@example.com",
         "6789012345"
        ],
        [
         "Sarah Davis",
         "333 Birch Ave",
         "sarah.davis@example.com",
         "7890123456"
        ],
        [
         "Michael Johnson",
         "789 Oak Ave",
         "michael.johnson2@example.com",
         "9012345678"
        ],
        [
         "Emma Miller",
         "444 Cedar Blvd",
         "emma.miller@example.com",
         "123456789"
        ]
       ],
       "datasetInfos": [],
       "dbfsResultPath": null,
       "isJsonSchema": true,
       "metadata": {},
       "overflow": false,
       "plotOptions": {
        "customPlotOptions": {},
        "displayType": "table",
        "pivotAggregation": null,
        "pivotColumns": null,
        "xColumns": null,
        "yColumns": null
       },
       "removedWidgets": [],
       "schema": [
        {
         "metadata": "{}",
         "name": "_c0",
         "type": "\"string\""
        },
        {
         "metadata": "{}",
         "name": "_c1",
         "type": "\"string\""
        },
        {
         "metadata": "{}",
         "name": "_c2",
         "type": "\"string\""
        },
        {
         "metadata": "{}",
         "name": "_c3",
         "type": "\"string\""
        }
       ],
       "type": "table"
      }
     },
     "output_type": "display_data"
    }
   ],
   "source": [
    "dfc = spark.read.csv(path='dbfs:/FileStore/data/customers.csv')\n",
    "display(dfc)"
   ]
  },
  {
   "cell_type": "markdown",
   "metadata": {
    "application/vnd.databricks.v1+cell": {
     "cellMetadata": {},
     "inputWidgets": {},
     "nuid": "6ba12c11-dbaf-4b23-9e55-1725f94d52d5",
     "showTitle": false,
     "title": ""
    }
   },
   "source": [
    "# Step 1: Loading the Customer Data"
   ]
  },
  {
   "cell_type": "code",
   "execution_count": 0,
   "metadata": {
    "application/vnd.databricks.v1+cell": {
     "cellMetadata": {
      "byteLimit": 2048000,
      "rowLimit": 10000
     },
     "inputWidgets": {},
     "nuid": "4b8057bb-d769-432c-b84d-f9d3f762e5f0",
     "showTitle": false,
     "title": ""
    }
   },
   "outputs": [
    {
     "output_type": "stream",
     "name": "stdout",
     "output_type": "stream",
     "text": [
      "+---------------+--------------+--------------------+----------+\n|           Name|       Address|               Email|     Phone|\n+---------------+--------------+--------------------+----------+\n|       John Doe|   123 Main St|john.doe@example.com|1234567890|\n|     Jane Smith|    456 Elm St|jane.smith@exampl...|2345678901|\n|Michael Johnson|   789 Oak Ave|michael.johnson@e...|3456789012|\n|    Emily Brown|   101 Pine St|emily.brown@examp...|4567890123|\n|       John Doe|   123 Main St|john.doe2@example...|8521469589|\n|     Jane Smith|    456 Elm St|jane.smith2@examp...|5678901234|\n|   David Wilson|  222 Maple Rd|david.wilson@exam...|6789012345|\n|    Sarah Davis| 333 Birch Ave|sarah.davis@examp...|7890123456|\n|Michael Johnson|   789 Oak Ave|michael.johnson2@...|9012345678|\n|    Emma Miller|444 Cedar Blvd|emma.miller@examp...| 123456789|\n+---------------+--------------+--------------------+----------+\n\n"
     ]
    }
   ],
   "source": [
    "from pyspark.sql.types import StructType, StructField, StringType, IntegerType\n",
    "\n",
    "# Defining the schema explicitly based on CSV file\n",
    "schema = StructType([\n",
    "    StructField(\"Name\", StringType(), True),\n",
    "    StructField(\"Address\", StringType(), True),\n",
    "    StructField(\"Email\", StringType(), True),\n",
    "    StructField(\"Phone\", StringType(), True)\n",
    "])\n",
    "\n",
    "df_customers = spark.read.csv('dbfs:/FileStore/data/customers.csv', header=True, schema=schema)\n",
    "\n",
    "# Show the loaded data to verify schema and column names\n",
    "df_customers.show()"
   ]
  },
  {
   "cell_type": "markdown",
   "metadata": {
    "application/vnd.databricks.v1+cell": {
     "cellMetadata": {},
     "inputWidgets": {},
     "nuid": "d404fce4-c54d-4d1b-b650-a4e537fea5cc",
     "showTitle": false,
     "title": ""
    }
   },
   "source": [
    "# Step 2: Identifying and Assigning Master IDs to Duplicates"
   ]
  },
  {
   "cell_type": "code",
   "execution_count": 0,
   "metadata": {
    "application/vnd.databricks.v1+cell": {
     "cellMetadata": {
      "byteLimit": 2048000,
      "rowLimit": 10000
     },
     "inputWidgets": {},
     "nuid": "bd2f6ccd-22a8-4eac-8090-31167f498fdd",
     "showTitle": false,
     "title": ""
    }
   },
   "outputs": [
    {
     "output_type": "stream",
     "name": "stdout",
     "output_type": "stream",
     "text": [
      "+---------------+--------------+--------------------+----------+--------+\n|           Name|       Address|               Email|     Phone|MasterID|\n+---------------+--------------+--------------------+----------+--------+\n|   David Wilson|  222 Maple Rd|david.wilson@exam...|6789012345|       1|\n|    Emily Brown|   101 Pine St|emily.brown@examp...|4567890123|       1|\n|    Emma Miller|444 Cedar Blvd|emma.miller@examp...| 123456789|       1|\n|     Jane Smith|    456 Elm St|jane.smith@exampl...|2345678901|       1|\n|     Jane Smith|    456 Elm St|jane.smith2@examp...|5678901234|       2|\n|       John Doe|   123 Main St|john.doe@example.com|1234567890|       1|\n|       John Doe|   123 Main St|john.doe2@example...|8521469589|       2|\n|Michael Johnson|   789 Oak Ave|michael.johnson@e...|3456789012|       1|\n|Michael Johnson|   789 Oak Ave|michael.johnson2@...|9012345678|       2|\n|    Sarah Davis| 333 Birch Ave|sarah.davis@examp...|7890123456|       1|\n+---------------+--------------+--------------------+----------+--------+\n\n"
     ]
    }
   ],
   "source": [
    "from pyspark.sql.functions import row_number\n",
    "from pyspark.sql.window import Window\n",
    "\n",
    "# Step 2: Identify duplicates based on Name and Address\n",
    "window_spec = Window.partitionBy(\"name\", \"address\").orderBy(\"name\")\n",
    "df_with_duplicates = df_customers.withColumn(\"MasterID\", row_number().over(window_spec))\n",
    "\n",
    "# Show the data with Master IDs assigned\n",
    "df_with_duplicates.show()"
   ]
  },
  {
   "cell_type": "markdown",
   "metadata": {
    "application/vnd.databricks.v1+cell": {
     "cellMetadata": {},
     "inputWidgets": {},
     "nuid": "693e11b6-c2df-4624-b4ac-140fea06252d",
     "showTitle": false,
     "title": ""
    }
   },
   "source": [
    "# Step 3: Saving the Enriched DataFrame"
   ]
  },
  {
   "cell_type": "code",
   "execution_count": 0,
   "metadata": {
    "application/vnd.databricks.v1+cell": {
     "cellMetadata": {
      "byteLimit": 2048000,
      "rowLimit": 10000
     },
     "inputWidgets": {},
     "nuid": "0be7bd92-d211-43a3-af2d-7653bc64a16d",
     "showTitle": false,
     "title": ""
    }
   },
   "outputs": [
    {
     "output_type": "stream",
     "name": "stdout",
     "output_type": "stream",
     "text": [
      "Enriched customer data saved.\n"
     ]
    }
   ],
   "source": [
    "# Step 3: Save the enriched DataFrame back to DBFS or Azure SQL Database\n",
    "# Save as CSV back to DBFS\n",
    "df_with_duplicates.write.csv('dbfs:/FileStore/data/customers.csv', header=True, mode='overwrite')\n",
    "\n",
    "print(\"Enriched customer data saved.\")"
   ]
  },
  {
   "cell_type": "markdown",
   "metadata": {
    "application/vnd.databricks.v1+cell": {
     "cellMetadata": {},
     "inputWidgets": {},
     "nuid": "7b83aca7-42b4-48e9-bbb4-b9c8bbb2c7db",
     "showTitle": false,
     "title": ""
    }
   },
   "source": [
    "# Step 4: Reloading and Verifying Saved Data"
   ]
  },
  {
   "cell_type": "code",
   "execution_count": 0,
   "metadata": {
    "application/vnd.databricks.v1+cell": {
     "cellMetadata": {
      "byteLimit": 2048000,
      "rowLimit": 10000
     },
     "inputWidgets": {},
     "nuid": "7d85dcc5-39f9-4956-8d9f-8fdc80f44668",
     "showTitle": false,
     "title": ""
    }
   },
   "outputs": [
    {
     "output_type": "stream",
     "name": "stdout",
     "output_type": "stream",
     "text": [
      "+---------------+--------------+--------------------+----------+--------+\n|           Name|       Address|               Email|     Phone|MasterID|\n+---------------+--------------+--------------------+----------+--------+\n|   David Wilson|  222 Maple Rd|david.wilson@exam...|6789012345|       1|\n|    Emily Brown|   101 Pine St|emily.brown@examp...|4567890123|       1|\n|    Emma Miller|444 Cedar Blvd|emma.miller@examp...| 123456789|       1|\n|     Jane Smith|    456 Elm St|jane.smith@exampl...|2345678901|       1|\n|     Jane Smith|    456 Elm St|jane.smith2@examp...|5678901234|       2|\n|       John Doe|   123 Main St|john.doe@example.com|1234567890|       1|\n|       John Doe|   123 Main St|john.doe2@example...|8521469589|       2|\n|Michael Johnson|   789 Oak Ave|michael.johnson@e...|3456789012|       1|\n|Michael Johnson|   789 Oak Ave|michael.johnson2@...|9012345678|       2|\n|    Sarah Davis| 333 Birch Ave|sarah.davis@examp...|7890123456|       1|\n+---------------+--------------+--------------------+----------+--------+\n\n"
     ]
    }
   ],
   "source": [
    "enriched_customers_df = spark.read.csv('dbfs:/FileStore/data/customers.csv', header=True, inferSchema=True)\n",
    "\n",
    "# Show the loaded DataFrame to verify\n",
    "enriched_customers_df.show()\n"
   ]
  }
 ],
 "metadata": {
  "application/vnd.databricks.v1+notebook": {
   "dashboards": [],
   "environmentMetadata": null,
   "language": "python",
   "notebookMetadata": {
    "pythonIndentUnit": 4
   },
   "notebookName": "Identify Duplicate Customers",
   "widgets": {}
  }
 },
 "nbformat": 4,
 "nbformat_minor": 0
}
